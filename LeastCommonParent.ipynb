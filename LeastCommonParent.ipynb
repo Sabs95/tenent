{
  "nbformat": 4,
  "nbformat_minor": 0,
  "metadata": {
    "colab": {
      "name": "Untitled0.ipynb",
      "provenance": [],
      "collapsed_sections": [],
      "authorship_tag": "ABX9TyOv+N3cDs/6M/qKfHLn6kmB",
      "include_colab_link": true
    },
    "kernelspec": {
      "name": "python3",
      "display_name": "Python 3"
    }
  },
  "cells": [
    {
      "cell_type": "markdown",
      "metadata": {
        "id": "view-in-github",
        "colab_type": "text"
      },
      "source": [
        "<a href=\"https://colab.research.google.com/github/Sabs95/tenent/blob/master/LeastCommonParent.ipynb\" target=\"_parent\"><img src=\"https://colab.research.google.com/assets/colab-badge.svg\" alt=\"Open In Colab\"/></a>"
      ]
    },
    {
      "cell_type": "code",
      "metadata": {
        "id": "NLVnKPqBObRz",
        "colab_type": "code",
        "colab": {
          "base_uri": "https://localhost:8080/",
          "height": 34
        },
        "outputId": "6cf32d22-9049-450d-b27d-221560ac4009"
      },
      "source": [
        " \n",
        "class Node: \n",
        "    def __init__(self, key): \n",
        "        self.key =  key \n",
        "        self.left = None\n",
        "        self.right = None\n",
        "def findPath( root, path, k):  \n",
        "    if root is None: \n",
        "        return False\n",
        "    path.append(root.key) \n",
        "    if root.key == k : \n",
        "        return True\n",
        "    if ((root.left != None and findPath(root.left, path, k)) or\n",
        "            (root.right!= None and findPath(root.right, path, k))): \n",
        "        return True\n",
        "    path.pop() \n",
        "    return False \n",
        "def findLCA(root, n1, n2):\n",
        "    path1 = [] \n",
        "    path2 = []   \n",
        "    if (not findPath(root, path1, n1) or not findPath(root, path2, n2)): \n",
        "        return -1 \n",
        "    i = 0 \n",
        "    while(i < len(path1) and i < len(path2)): \n",
        "        if path1[i] != path2[i]: \n",
        "            break\n",
        "        i += 1\n",
        "    return path1[i-1] \n",
        "root = Node(2) \n",
        "root.left = Node(1) \n",
        "root.right = Node(3)  \n",
        "root.right.left = Node(4) \n",
        "root.right.right = Node(5) \n",
        "root.right.right.right= Node(6)\n",
        "print (\"LCA(1, 5) = \",findLCA(root, 1, 5)) \n",
        "\n",
        "  "
      ],
      "execution_count": 37,
      "outputs": [
        {
          "output_type": "stream",
          "text": [
            "LCA(1, 5) =  2\n"
          ],
          "name": "stdout"
        }
      ]
    },
    {
      "cell_type": "code",
      "metadata": {
        "id": "9VOQWdHyOmeC",
        "colab_type": "code",
        "colab": {}
      },
      "source": [
        ""
      ],
      "execution_count": 0,
      "outputs": []
    }
  ]
}