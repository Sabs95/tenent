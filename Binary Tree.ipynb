{
  "nbformat": 4,
  "nbformat_minor": 0,
  "metadata": {
    "colab": {
      "name": "Untitled0.ipynb",
      "provenance": [],
      "collapsed_sections": [],
      "authorship_tag": "ABX9TyPilAJ4TwV/6utbtyF4Cgsl",
      "include_colab_link": true
    },
    "kernelspec": {
      "name": "python3",
      "display_name": "Python 3"
    }
  },
  "cells": [
    {
      "cell_type": "markdown",
      "metadata": {
        "id": "view-in-github",
        "colab_type": "text"
      },
      "source": [
        "<a href=\"https://colab.research.google.com/github/Sabs95/tenent/blob/master/Binary%20Tree.ipynb\" target=\"_parent\"><img src=\"https://colab.research.google.com/assets/colab-badge.svg\" alt=\"Open In Colab\"/></a>"
      ]
    },
    {
      "cell_type": "code",
      "metadata": {
        "id": "NLVnKPqBObRz",
        "colab_type": "code",
        "colab": {
          "base_uri": "https://localhost:8080/",
          "height": 119
        },
        "outputId": "e4f5a6af-fff7-4a1c-a2d7-ead7e542b799"
      },
      "source": [
        "class Node:\n",
        "    def __init__(self, key): \n",
        "        self.data = key  \n",
        "        self.left = None\n",
        "        self.right = None\n",
        "def printOrder(root): \n",
        "    h = height(root) \n",
        "    for i in range(1, h+1): \n",
        "        printLevel(root, i)\n",
        "  \n",
        "def printLevel(root , level): \n",
        "    if root is None: \n",
        "        return\n",
        "    if level == 1: \n",
        "        print (root.data)\n",
        "    elif level > 1 : \n",
        "        printLevel(root.left , level-1) \n",
        "        printLevel(root.right , level-1) \n",
        "def height(node): \n",
        "    if node is None: \n",
        "        return 0 \n",
        "    else :  \n",
        "        lheight = height(node.left) \n",
        "        rheight = height(node.right) \n",
        "        if lheight > rheight : \n",
        "            return lheight+1\n",
        "        else: \n",
        "            return rheight+1\n",
        "root = Node(1) \n",
        "root.left = Node(2) \n",
        "root.right = Node(3) \n",
        "root.left.left = Node(4) \n",
        "root.left.right = Node(5) \n",
        "print (\"The binary tree is -\")\n",
        "printOrder(root) \n",
        "  "
      ],
      "execution_count": 43,
      "outputs": [
        {
          "output_type": "stream",
          "text": [
            "The binary tree is -\n",
            "1\n",
            "2\n",
            "3\n",
            "4\n",
            "5\n"
          ],
          "name": "stdout"
        }
      ]
    },
    {
      "cell_type": "code",
      "metadata": {
        "id": "9VOQWdHyOmeC",
        "colab_type": "code",
        "colab": {}
      },
      "source": [
        ""
      ],
      "execution_count": 0,
      "outputs": []
    }
  ]
}