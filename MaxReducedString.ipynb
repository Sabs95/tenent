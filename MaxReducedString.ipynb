{
  "nbformat": 4,
  "nbformat_minor": 0,
  "metadata": {
    "colab": {
      "name": "Untitled0.ipynb",
      "provenance": [],
      "collapsed_sections": [],
      "authorship_tag": "ABX9TyOJoBEU1VrQPXPf2Ei3JPUB",
      "include_colab_link": true
    },
    "kernelspec": {
      "name": "python3",
      "display_name": "Python 3"
    }
  },
  "cells": [
    {
      "cell_type": "markdown",
      "metadata": {
        "id": "view-in-github",
        "colab_type": "text"
      },
      "source": [
        "<a href=\"https://colab.research.google.com/github/Sabs95/tenent/blob/master/MaxReducedString.ipynb\" target=\"_parent\"><img src=\"https://colab.research.google.com/assets/colab-badge.svg\" alt=\"Open In Colab\"/></a>"
      ]
    },
    {
      "cell_type": "code",
      "metadata": {
        "id": "NLVnKPqBObRz",
        "colab_type": "code",
        "colab": {
          "base_uri": "https://localhost:8080/",
          "height": 34
        },
        "outputId": "4657091e-b6e1-4d79-fe34-4f554c41fffc"
      },
      "source": [
        "def MaxReducedString(s):\n",
        "    res = ''\n",
        "    i = 0\n",
        "    while i < len(s):\n",
        "        if i + 1 == len(s) or s[i + 1] != s[i]:\n",
        "            res += s[i]\n",
        "        else:\n",
        "            i += 1\n",
        "        i += 1\n",
        "    return res\n",
        "def superReducedString(origin):\n",
        "    res = MaxReducedString(origin)\n",
        "    while res != origin:\n",
        "        res, origin = MaxReducedString(res), res\n",
        "\n",
        "    return res or 'Empty String'\n",
        "\n",
        "superReducedString(\"abccddd\")"
      ],
      "execution_count": 23,
      "outputs": [
        {
          "output_type": "execute_result",
          "data": {
            "text/plain": [
              "'abd'"
            ]
          },
          "metadata": {
            "tags": []
          },
          "execution_count": 23
        }
      ]
    },
    {
      "cell_type": "code",
      "metadata": {
        "id": "9VOQWdHyOmeC",
        "colab_type": "code",
        "colab": {}
      },
      "source": [
        ""
      ],
      "execution_count": 0,
      "outputs": []
    }
  ]
}